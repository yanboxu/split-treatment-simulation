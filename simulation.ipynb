{
 "cells": [
  {
   "cell_type": "code",
   "execution_count": 1,
   "metadata": {},
   "outputs": [],
   "source": [
    "import numpy as np\n",
    "import pandas as pd\n",
    "import random\n",
    "\n",
    "import os\n",
    "import pickle\n",
    "import sys\n",
    "import timeit\n",
    "\n",
    "from sklearn.metrics import roc_curve, auc, roc_auc_score\n",
    "from sklearn.linear_model import LinearRegression, LogisticRegression\n",
    "from sklearn.datasets import make_spd_matrix\n",
    "from sklearn.ensemble import RandomForestRegressor\n",
    "from scipy.stats.stats import pearsonr \n",
    "\n",
    "import matplotlib.pyplot as plt\n",
    "from matplotlib.ticker import NullFormatter\n",
    "from matplotlib.ticker import FormatStrFormatter\n",
    "\n",
    "from matplotlib.pyplot import imshow\n",
    "import seaborn as sns\n",
    "\n",
    "%matplotlib inline \n",
    "\n",
    "from IPython.display import Image \n",
    "\n",
    "from util import fit_IPTW_LR, fit_IPTW_RF, fit_IPTW_SVM\n",
    "from util import sim_Data, sim_Unobs_Data, evaluation, bayes_unobs_confounder\n",
    "import pickle\n",
    "\n",
    "from util import *"
   ]
  },
  {
   "cell_type": "markdown",
   "metadata": {},
   "source": [
    "<img src=\"split_treatment.png\" width=\"400\"/>"
   ]
  },
  {
   "cell_type": "markdown",
   "metadata": {},
   "source": [
    "## Generate data with no-unobs. confounding"
   ]
  },
  {
   "cell_type": "code",
   "execution_count": null,
   "metadata": {},
   "outputs": [],
   "source": [
    "xDim = 50\n",
    "nSim = 10000\n",
    "\n",
    "p_AgivenZ = 1\n",
    "p_AgivenNotZ = 0.1\n",
    "        \n",
    "X_data, Y_data, A_data, nObs, Group_data, Y_0_data, Y_1_data, Z, A = sim_Data(xDim, nSim, p_AgivenZ, p_AgivenNotZ)\n",
    "\n",
    "print('Fit IPTW + LR')\n",
    "Yhat_0, Yhat_1 = fit_IPTW_LR(X_data, Y_data, A_data, nObs)\n",
    "a_matched_z, rmse = evaluation(Yhat_0, Yhat_1, Group_data, Y_0_data, Y_1_data, A, Z)\n",
    "\n",
    "print('Fit IPTW + SVM')\n",
    "Yhat_0, Yhat_1 = fit_IPTW_SVM(X_data, Y_data, A_data, nObs)\n",
    "a_matched_z, rmse = evaluation(Yhat_0, Yhat_1, Group_data, Y_0_data, Y_1_data, A, Z)"
   ]
  },
  {
   "cell_type": "markdown",
   "metadata": {},
   "source": [
    "## Violation of Assumption 1: Generate data with unobs. confounding"
   ]
  },
  {
   "cell_type": "code",
   "execution_count": null,
   "metadata": {},
   "outputs": [],
   "source": [
    "xDim = 50\n",
    "nSim = 10000\n",
    "p_AgivenZ = 1\n",
    "p_AgivenNotZ = 0.1\n",
    "\n",
    "X_data, Y_data, A_data, nObs, Group_data, Y_0_data, Y_1_data, Z, A = sim_Unobs_Data(xDim, nSim, p_AgivenZ, p_AgivenNotZ)\n",
    "Yhat_0, Yhat_1 = fit_IPTW_LR(X_data, Y_data,A_data, nObs)\n",
    "a_matched_z, rmse = evaluation(Yhat_0, Yhat_1, Group_data, Y_0_data, Y_1_data, A, Z)"
   ]
  },
  {
   "cell_type": "markdown",
   "metadata": {},
   "source": [
    "## Violation of Assumption 2: Generate data violating the split-treatment criterion "
   ]
  },
  {
   "cell_type": "code",
   "execution_count": null,
   "metadata": {},
   "outputs": [],
   "source": [
    "xDim = 50\n",
    "nSim = 10000\n",
    "p_AgivenZ = 0.6\n",
    "p_AgivenNotZ = 0.7\n",
    "\n",
    "X_data, Y_data, A_data, nObs, Group_data, Y_0_data, Y_1_data, Z, A = sim_Data(xDim, nSim, p_AgivenZ, p_AgivenNotZ)\n",
    "Yhat_0, Yhat_1 = fit_IPTW_LR(X_data, Y_data, A_data, nObs)\n",
    "a_matched_z, rmse = evaluation(Yhat_0, Yhat_1, Group_data, Y_0_data, Y_1_data, A, Z)"
   ]
  },
  {
   "cell_type": "markdown",
   "metadata": {},
   "source": [
    "# Refutation Analysis"
   ]
  },
  {
   "cell_type": "markdown",
   "metadata": {},
   "source": [
    "### Generating Unobserved Confounders"
   ]
  },
  {
   "cell_type": "code",
   "execution_count": null,
   "metadata": {},
   "outputs": [],
   "source": [
    "# Treatment: A_data; Features: X_data; Labels: Y_data [ Each of shape 10k*1 or 10k*50 ]\n",
    "# A and A_data are the same\n",
    "\n",
    "xDim = 50\n",
    "nSim = 10000\n",
    "\n",
    "A_matched_Z = []\n",
    "RMSEs = []\n",
    "A_matched_Z_unobs = []\n",
    "RMSEs_unobs = []\n",
    "\n",
    "corr_t=[]\n",
    "corr_y=[]\n",
    "counter=0\n",
    "for p_AgivenZ in [0.6, 0.7, 0.8, 0.9, 1]:\n",
    "    for p_AgivenNotZ in [0.5, 0.4, 0.3, 0.2, 0.1]:\n",
    "\n",
    "        X_data, Y_data, A_data, nObs, Group_data, Y_0_data, Y_1_data, Z, A = sim_Data(xDim, nSim, p_AgivenZ, p_AgivenNotZ)\n",
    "        print(np.sum(Y_0_data), np.sum(Y_1_data))\n",
    "        \n",
    "        #Generate Obs Refutation Data\n",
    "        alpha= 1000\n",
    "        eps= 10*alpha\n",
    "        corr_treat, corr_out, X_data_unobs= bayes_unobs_confounder(X_data, A_data, Y_data, alpha, eps)\n",
    "        corr_t.append(corr_treat)\n",
    "        corr_y.append(corr_out)\n",
    "        \n",
    "        #Results on Normal Data\n",
    "        Yhat_0, Yhat_1 = fit_IPTW_LR(X_data, Y_data, A_data, nObs)\n",
    "        a_matched_z, rmse = evaluation(Yhat_0, Yhat_1, Group_data, Y_0_data, Y_1_data, A, Z)\n",
    "        \n",
    "        A_matched_Z.append(a_matched_z)\n",
    "        RMSEs.append(rmse)\n",
    "        \n",
    "        #Results on Confounded Data\n",
    "        Yhat_0, Yhat_1 = fit_IPTW_LR(X_data_unobs, Y_data, A_data, nObs)\n",
    "        a_matched_z, rmse = evaluation(Yhat_0, Yhat_1, Group_data, Y_0_data, Y_1_data, A, Z)\n",
    "        \n",
    "        A_matched_Z_unobs.append(a_matched_z)\n",
    "        RMSEs_unobs.append(rmse)\n",
    "        \n",
    "        \n",
    "#         if counter ==0:\n",
    "#             counter+=1\n",
    "#             print(X_data.shape, Y_data.shape, A_data.shape, Group_data.shape, Y_0_data.shape, Y_1_data.shape)\n",
    "#             print(Y_data[0], Y_0_data[0], Y_1_data[0], A[0])\n",
    "#             print(Y_data[10], Y_0_data[10], Y_1_data[10], A[10])\n",
    "#             print(A_data)\n",
    "#             print(A, Z, nObs, len(A), len(Z))\n",
    "            \n",
    "#             if np.array_equal(A, A_data):\n",
    "#                 print('Yes')\n",
    "                \n",
    "#             if np.array_equal(X_data, Group_data):\n",
    "#                 print('Yes')\n",
    "#             else:\n",
    "#                 print('No')\n",
    "\n",
    "corr_t=np.array(corr_t)\n",
    "corr_y=np.array(corr_y)\n",
    "\n",
    "print('Final')\n",
    "print('Correlation Treatment: ', np.mean(corr_t), np.std(corr_t))\n",
    "print('Correlation Outcome: ', np.mean(corr_y), np.std(corr_y))"
   ]
  },
  {
   "cell_type": "markdown",
   "metadata": {},
   "source": [
    "### Results with True Data"
   ]
  },
  {
   "cell_type": "code",
   "execution_count": null,
   "metadata": {},
   "outputs": [],
   "source": [
    "A_matched_Z = np.array(A_matched_Z)\n",
    "RMSEs = np.array(RMSEs)\n",
    "sort_indice = np.argsort(A_matched_Z)\n",
    "plt.plot(A_matched_Z[sort_indice], RMSEs[sort_indice])\n",
    "plt.xlabel('% of A matched Z')\n",
    "plt.ylabel('RMSE')"
   ]
  },
  {
   "cell_type": "markdown",
   "metadata": {},
   "source": [
    "### Results with Unobs Confounding"
   ]
  },
  {
   "cell_type": "code",
   "execution_count": null,
   "metadata": {},
   "outputs": [],
   "source": [
    "A_matched_Z_unobs = np.array(A_matched_Z_unobs)\n",
    "RMSEs_unobs = np.array(RMSEs_unobs)\n",
    "sort_indice = np.argsort(A_matched_Z_unobs)\n",
    "plt.plot(A_matched_Z_unobs[sort_indice], RMSEs_unobs[sort_indice])\n",
    "plt.xlabel('% of A matched Z')\n",
    "plt.ylabel('RMSE')"
   ]
  },
  {
   "cell_type": "markdown",
   "metadata": {},
   "source": [
    "## Placebo Confounder"
   ]
  },
  {
   "cell_type": "code",
   "execution_count": 7,
   "metadata": {},
   "outputs": [
    {
     "name": "stdout",
     "output_type": "stream",
     "text": [
      "Avg compliance: 0.5999999999999999\n",
      "560.4025206244025 837793.7358539576\n",
      "p_A: 0.5001, IPTW: 1.00 +/- 0.07\n",
      "Est. Y_0 RMSE: 0.01418078579966871\n",
      "Est. Y_1 RMSE: 0.2518455492106607\n",
      "80.2% A matched Z, RMSE: 0.18\n",
      "% of A matched Z 0.8023\n",
      "(array([0., 1.]), array([4891, 5109]))\n",
      "p_A: 0.5109, IPTW: 1.00 +/- 0.07\n",
      "Est. Y_0 RMSE: 0.39691563698847504\n",
      "Est. Y_1 RMSE: 42.55500800805432\n",
      "80.2% A matched Z, RMSE: 1.13\n"
     ]
    },
    {
     "data": {
      "image/png": "[encoded data removed]",
      "text/plain": [
       "<Figure size 720x432 with 2 Axes>"
      ]
     },
     "metadata": {
      "needs_background": "light"
     },
     "output_type": "display_data"
    },
    {
     "data": {
      "image/png": "[encoded data removed]",
      "text/plain": [
       "<Figure size 720x432 with 2 Axes>"
      ]
     },
     "metadata": {
      "needs_background": "light"
     },
     "output_type": "display_data"
    }
   ],
   "source": [
    "xDim = 50\n",
    "nSim = 10000\n",
    "\n",
    "#Data Generation\n",
    "A_matched_Z = []\n",
    "RMSEs = []\n",
    "\n",
    "# A percentage Z match 52% params\n",
    "# p_AgivenZ= 0.6\n",
    "# p_AgivenNotZ=0.5\n",
    "\n",
    "# A percentage Z match 77% params\n",
    "p_AgivenZ= 0.8\n",
    "p_AgivenNotZ=0.2\n",
    "\n",
    "X_data, Y_data, A_data, nObs, Group_data, Y_0_data, Y_1_data, Z, A = sim_Data(xDim, nSim, p_AgivenZ, p_AgivenNotZ)\n",
    "print(np.sum(Y_0_data), np.sum(Y_1_data))\n",
    "\n",
    "#Yhat_0, Yhat_1 = fit_IPTW_LR(X_data, Y_data, A_data, nObs)\n",
    "Yhat_0, Yhat_1 = fit_IPTW_SVM(X_data, Y_data, A_data, nObs)\n",
    "\n",
    "a_matched_z, rmse = evaluation(Yhat_0, Yhat_1, Group_data, Y_0_data, Y_1_data, A, Z)\n",
    "print('% of A matched Z', a_matched_z)\n",
    "\n",
    "A_matched_Z.append(a_matched_z)\n",
    "RMSEs.append(rmse)\n",
    "\n",
    "#Placebo Confounder\n",
    "A_matched_Z_unobs = []\n",
    "RMSEs_unobs = []\n",
    "\n",
    "A_data_placebo= placebo_confounder(X_data, A_data, Y_data)\n",
    "\n",
    "#Results on Confounded Data\n",
    "Yhat_0, Yhat_1 = fit_IPTW_LR(X_data, Y_data,  A_data_placebo, nObs)\n",
    "a_matched_z, rmse = evaluation(Yhat_0, Yhat_1, Group_data, Y_0_data, Y_1_data, A, Z)\n",
    "\n",
    "A_matched_Z_unobs.append(a_matched_z)\n",
    "RMSEs_unobs.append(rmse)"
   ]
  },
  {
   "cell_type": "markdown",
   "metadata": {},
   "source": [
    "## Sweep over Unobs Confounders"
   ]
  },
  {
   "cell_type": "code",
   "execution_count": null,
   "metadata": {},
   "outputs": [],
   "source": [
    "methods=['IPTW_LR', 'IPTW_SVM']\n",
    "res=[]\n",
    "for method in methods:\n",
    "\n",
    "    alpha_range, sort_indice, a_matched_z, A_matched_Z_unobs, RMSEs_unobs, RMSEs, corr_t, corr_y= refutation_analysis(method)\n",
    "\n",
    "    A_matched_Z_unobs = np.array(A_matched_Z_unobs)\n",
    "    RMSEs_unobs = np.array(RMSEs_unobs)\n",
    "\n",
    "    sort_indice = np.argsort(A_matched_Z_unobs)\n",
    "    sort_indice = sort_indice[::-1]\n",
    "    \n",
    "    res.append(RMSEs_unobs)"
   ]
  },
  {
   "cell_type": "markdown",
   "metadata": {},
   "source": [
    "## Bar Plot"
   ]
  },
  {
   "cell_type": "code",
   "execution_count": null,
   "metadata": {},
   "outputs": [],
   "source": [
    "plot_df= pd.DataFrame(columns=methods)\n",
    "for idx in range(len(methods)):\n",
    "    plot_df[methods[idx]]= res[idx]\n",
    "\n",
    "sns.set(font_scale=2.45)\n",
    "sns.set_style(\"whitegrid\")\n",
    "#sns.set(rc={\"font.size\":20,\"axes.titlesize\":20,\"axes.labelsize\":20},style=\"white\")\n",
    "\n",
    "fig, ax1 = plt.subplots(figsize = [15,7])\n",
    "\n",
    "fig = sns.boxplot(data = plot_df, palette='PRGn')\n",
    "fig.set_xlabel('Models')\n",
    "fig.set_ylabel('RMSE')\n",
    "plt.savefig('images/sensitivity_analysis_synthetic.png', dpi=200)"
   ]
  },
  {
   "cell_type": "markdown",
   "metadata": {},
   "source": [
    "## Line Plots"
   ]
  },
  {
   "cell_type": "code",
   "execution_count": null,
   "metadata": {},
   "outputs": [],
   "source": [
    "plt.plot(alpha_range[sort_indice], RMSEs_unobs[sort_indice], '-ok', label='Confounder-SVM')\n",
    "plt.plot(alpha_range[sort_indice], len(alpha_range)*RMSEs, label='No Confounder-SVM')\n",
    "plt.xlabel('Confounder Strength (10^4/alpha)')\n",
    "plt.ylabel('RMSE')\n",
    "plt.title('Refutation analysis with % of A matched Z ' + str(np.round(a_matched_z,2)))\n",
    "plt.legend()\n",
    "plt.savefig('images/lr.jpg')"
   ]
  },
  {
   "cell_type": "code",
   "execution_count": null,
   "metadata": {},
   "outputs": [],
   "source": [
    "plt.plot(alpha_range, corr_t, '-ok')\n",
    "plt.xlabel('Confounder Strength (10^4/alpha)')\n",
    "plt.ylabel('Pearson Correlation')\n",
    "plt.title('Correlation of Confounder with Treatment A')\n",
    "#plt.savefig('images/b_52.jpg')"
   ]
  },
  {
   "cell_type": "code",
   "execution_count": null,
   "metadata": {},
   "outputs": [],
   "source": [
    "plt.plot(alpha_range, corr_y, '-ok')\n",
    "plt.xlabel('Confounder Strength (10^4/alpha)')\n",
    "plt.ylabel('Pearson Correlation')\n",
    "plt.title('Correlation of Confounder with Outcome Y')\n",
    "#plt.savefig('images/c_52.jpg')"
   ]
  },
  {
   "cell_type": "code",
   "execution_count": null,
   "metadata": {},
   "outputs": [],
   "source": []
  },
  {
   "cell_type": "code",
   "execution_count": null,
   "metadata": {},
   "outputs": [],
   "source": []
  }
 ],
 "metadata": {
  "kernelspec": {
   "display_name": "Python 3",
   "language": "python",
   "name": "python3"
  },
  "language_info": {
   "codemirror_mode": {
    "name": "ipython",
    "version": 3
   },
   "file_extension": ".py",
   "mimetype": "text/x-python",
   "name": "python",
   "nbconvert_exporter": "python",
   "pygments_lexer": "ipython3",
   "version": "3.6.9"
  }
 },
 "nbformat": 4,
 "nbformat_minor": 2
}
