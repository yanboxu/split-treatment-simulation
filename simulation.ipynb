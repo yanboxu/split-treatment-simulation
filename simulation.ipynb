{
 "cells": [
  {
   "cell_type": "code",
   "execution_count": 128,
   "metadata": {},
   "outputs": [],
   "source": [
    "import numpy as np\n",
    "import random\n",
    "\n",
    "import os\n",
    "import pickle\n",
    "import sys\n",
    "import timeit\n",
    "\n",
    "from sklearn.metrics import roc_curve, auc, roc_auc_score\n",
    "from sklearn.linear_model import LinearRegression, LogisticRegression\n",
    "from sklearn.datasets import make_spd_matrix\n",
    "from sklearn.ensemble import RandomForestRegressor\n",
    "\n",
    "import matplotlib.pyplot as plt\n",
    "from matplotlib.ticker import NullFormatter\n",
    "from matplotlib.ticker import FormatStrFormatter\n",
    "\n",
    "from matplotlib.pyplot import imshow\n",
    "%matplotlib inline \n",
    "\n",
    "from IPython.display import Image \n",
    "\n",
    "import pickle"
   ]
  },
  {
   "cell_type": "markdown",
   "metadata": {},
   "source": [
    "<img src=\"split_treatment.png\" width=\"400\"/>"
   ]
  },
  {
   "cell_type": "code",
   "execution_count": 222,
   "metadata": {},
   "outputs": [
    {
     "data": {
      "text/plain": [
       "Text(0.5, 1.0, 'Ground truth ITE')"
      ]
     },
     "execution_count": 222,
     "metadata": {},
     "output_type": "execute_result"
    },
    {
     "data": {
      "image/png": "[encoded data removed]",
      "text/plain": [
       "<Figure size 432x288 with 1 Axes>"
      ]
     },
     "metadata": {
      "needs_background": "light"
     },
     "output_type": "display_data"
    }
   ],
   "source": [
    "xDim = 50\n",
    "nSim = 10000\n",
    "\n",
    "#** Follow the graph to generate Y\n",
    "# Y = X * beta + Z * CATE\n",
    "\n",
    "#** Add a U to X, A and Y\n",
    "# confounders\n",
    "x_Sigma = make_spd_matrix(xDim)\n",
    "X = np.random.multivariate_normal(np.zeros(xDim),x_Sigma,size=nSim)\n",
    "beta = np.random.choice(5, xDim, replace=True, p =[.3, .25, .2, .15, .1])\n",
    "\n",
    "# ground truth CATE\n",
    "CATE = np.array([1,2,3,4])\n",
    "p_G = np.exp(X[:,1])/(1+np.exp(X[:,1]))\n",
    "Group = np.zeros(nSim)\n",
    "Group[p_G < 0.75] = 1\n",
    "Group[p_G < 0.5] = 2\n",
    "Group[p_G < 0.25] = 3\n",
    "Group = Group.astype(int)\n",
    "\n",
    "# ground truth two-arm potential outcomes\n",
    "Y_0 = np.random.normal(np.sum(X * beta,1),1)\n",
    "#Y_1 = Y_0 + np.random.normal(CATE[Group],1)\n",
    "Y_1 = Y_0 + CATE[Group]\n",
    "\n",
    "# Z encourage A, and split-treatment criterion p_A_given_Z > p_A_given_notZ\n",
    "p_A_given_Z = [0.8 if x[0] > 0 else 0.7 for x in X]\n",
    "p_A_given_notZ = [0.5 for x in X]\n",
    "\n",
    "# ground truth ITE plot\n",
    "ite_order = np.argsort(Y_1 - Y_0)\n",
    "plt.plot((Y_1 - Y_0)[ite_order])\n",
    "plt.title('Ground truth ITE')"
   ]
  },
  {
   "cell_type": "code",
   "execution_count": 223,
   "metadata": {},
   "outputs": [],
   "source": [
    "# generate randomized data (Z, A, X, Y)\n",
    "\n",
    "# randomized treatment\n",
    "Z = np.random.choice(2, nSim)\n",
    "\n",
    "A = [np.random.choice(2, 1, p = [1-p_A_given_Z[i], p_A_given_Z[i]]) \n",
    "     if Z[i] == 1 else np.random.choice(2, 1, p = [1-p_A_given_notZ[i], p_A_given_notZ[i]])\n",
    "    for i in range(nSim)]\n",
    "\n",
    "Y = [Y_0[i] if Z[i] == 0 else Y_1[i] for i in range(nSim)]\n",
    "\n",
    "Z = np.array(Z).ravel()\n",
    "A = np.array(A).ravel()\n",
    "Y = np.array(Y).ravel()"
   ]
  },
  {
   "cell_type": "code",
   "execution_count": 259,
   "metadata": {},
   "outputs": [
    {
     "name": "stdout",
     "output_type": "stream",
     "text": [
      "Num obs: 6619\n"
     ]
    }
   ],
   "source": [
    "# get biased observed data \n",
    "obs_indices = [True if X[i,0] * X[i,2] > 0 else False for i in range(nSim)]\n",
    "\n",
    "X_obs = X[obs_indices]\n",
    "A_obs = A[obs_indices]\n",
    "Y_obs = Y[obs_indices]\n",
    "\n",
    "# ground truth params\n",
    "Group_obs = Group[obs_indices]\n",
    "Y_0_obs = Y_0[obs_indices]\n",
    "Y_1_obs = Y_1[obs_indices]\n",
    "\n",
    "nObs = sum(obs_indices)\n",
    "print('Num obs:', nObs)"
   ]
  },
  {
   "cell_type": "code",
   "execution_count": 249,
   "metadata": {},
   "outputs": [
    {
     "name": "stdout",
     "output_type": "stream",
     "text": [
      "p_A: 0.618220274966007, IPTW: 1.00 +/- 0.12\n"
     ]
    }
   ],
   "source": [
    "# Fit IPTW to observed biased data (A, X, Y)\n",
    "# 1. Fit propensity\n",
    "clf = LogisticRegression(random_state=0).fit(X_obs, A_obs)\n",
    "propensity = clf.predict_proba(X_obs)[:,1]\n",
    "p_A = np.sum(A_obs)/len(A_obs)\n",
    "iptw = [p_A/propensity[i] if A_obs[i] == 1 else (1-p_A)/(1-propensity[i]) for i in range(nObs)]\n",
    "\n",
    "print('p_A: {}, IPTW: {:.2f} +/- {:.2f}'.format(p_A, np.mean(iptw), np.std(iptw)))"
   ]
  },
  {
   "cell_type": "code",
   "execution_count": 270,
   "metadata": {},
   "outputs": [
    {
     "name": "stdout",
     "output_type": "stream",
     "text": [
      "Unbiased est. CATE: 0.87, 1.02, 1.31, 1.53\n",
      "Unbiased rec. CATE: 2.69, 2.19, 2.46, 3.02\n",
      "Ground truth CATE: [1 2 3 4]\n"
     ]
    }
   ],
   "source": [
    "# 2. Fit IPTW-LR\n",
    "#model = RandomForestRegressor(max_depth=2, random_state=0).fit(np.concatenate((X,A.reshape(-1,1)),1),Y,sample_weight=iptw)\n",
    "model = LinearRegression(fit_intercept=False).fit(np.concatenate((X_obs,A_obs.reshape(-1,1)),1),Y_obs,sample_weight=iptw)\n",
    "Ytmp_0 = model.predict(np.concatenate((X_obs,np.zeros((nObs,1))),1))\n",
    "Ytmp_1 = model.predict(np.concatenate((X_obs,np.ones((nObs,1))),1))\n",
    "Yhat_0 = np.array([Y_obs[i] if A_obs[i] == 0 else Ytmp_0[i] for i in range(nObs)])\n",
    "Yhat_1 = np.array([Y_obs[i] if A_obs[i] == 1 else Ytmp_1[i] for i in range(nObs)])\n",
    "\n",
    "print('Unbiased est. CATE: {:.2f}, {:.2f}, {:.2f}, {:.2f}'.format(\n",
    "    np.mean((Yhat_1 - Yhat_0)[Group_obs == 0]),\n",
    "           np.mean((Yhat_1 - Yhat_0)[Group_obs == 1]),\n",
    "                  np.mean((Yhat_1 - Yhat_0)[Group_obs == 2]),\n",
    "                         np.mean((Yhat_1 - Yhat_0)[Group_obs == 3])))\n",
    "\n",
    "indices_sort = np.argsort(Yhat_1 - Yhat_0)\n",
    "recover_CATE = (Y_1_obs - Y_0_obs)[indices_sort]\n",
    "print('Unbiased rec. CATE: {:.2f}, {:.2f}, {:.2f}, {:.2f}'.format(\n",
    "    np.mean(recover_CATE[:sum(Group_obs == 0)]), np.mean(recover_CATE[sum(Group_obs == 0):sum( Group_obs <= 1)]),\n",
    "    np.mean(recover_CATE[sum( Group_obs <= 1):sum( Group_obs <= 2)]), np.mean(recover_CATE[sum( Group_obs <= 2):])))\n",
    "print('Ground truth CATE:', CATE)"
   ]
  },
  {
   "cell_type": "code",
   "execution_count": 271,
   "metadata": {},
   "outputs": [
    {
     "name": "stdout",
     "output_type": "stream",
     "text": [
      "Biased est. CATE: 0.88, 1.03, 1.32, 1.55\n",
      "Biased rec. CATE: 2.68, 2.19, 2.46, 3.03\n",
      "Ground truth CATE: [1 2 3 4]\n"
     ]
    }
   ],
   "source": [
    "# Fit LR\n",
    "model = LinearRegression(fit_intercept=False).fit(np.concatenate((X_obs,A_obs.reshape(-1,1)),1),Y_obs)\n",
    "Ytmp_0 = model.predict(np.concatenate((X_obs,np.zeros((nObs,1))),1))\n",
    "Ytmp_1 = model.predict(np.concatenate((X_obs,np.ones((nObs,1))),1))\n",
    "Yhat_0 = np.array([Y_obs[i] if A_obs[i] == 0 else Ytmp_0[i] for i in range(nObs)])\n",
    "Yhat_1 = np.array([Y_obs[i] if A_obs[i] == 1 else Ytmp_1[i] for i in range(nObs)])\n",
    "\n",
    "print('Biased est. CATE: {:.2f}, {:.2f}, {:.2f}, {:.2f}'.format(\n",
    "    np.mean((Yhat_1 - Yhat_0)[Group_obs == 0]),\n",
    "           np.mean((Yhat_1 - Yhat_0)[Group_obs == 1]),\n",
    "                  np.mean((Yhat_1 - Yhat_0)[Group_obs == 2]),\n",
    "                         np.mean((Yhat_1 - Yhat_0)[Group_obs == 3])))\n",
    "\n",
    "indices_sort = np.argsort(Yhat_1 - Yhat_0)\n",
    "recover_CATE = (Y_1_obs - Y_0_obs)[indices_sort]\n",
    "print('Biased rec. CATE: {:.2f}, {:.2f}, {:.2f}, {:.2f}'.format(\n",
    "    np.mean(recover_CATE[:sum(Group_obs == 0)]), np.mean(recover_CATE[sum(Group_obs == 0):sum( Group_obs <= 1)]),\n",
    "    np.mean(recover_CATE[sum( Group_obs <= 1):sum( Group_obs <= 2)]), np.mean(recover_CATE[sum( Group_obs <= 2):])))\n",
    "print('Ground truth CATE:', CATE)"
   ]
  },
  {
   "cell_type": "code",
   "execution_count": null,
   "metadata": {},
   "outputs": [],
   "source": []
  }
 ],
 "metadata": {
  "kernelspec": {
   "display_name": "Python 3",
   "language": "python",
   "name": "python3"
  },
  "language_info": {
   "codemirror_mode": {
    "name": "ipython",
    "version": 3
   },
   "file_extension": ".py",
   "mimetype": "text/x-python",
   "name": "python",
   "nbconvert_exporter": "python",
   "pygments_lexer": "ipython3",
   "version": "3.7.6"
  }
 },
 "nbformat": 4,
 "nbformat_minor": 2
}
