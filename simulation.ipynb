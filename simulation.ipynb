{
 "cells": [
  {
   "cell_type": "code",
   "execution_count": null,
   "metadata": {},
   "outputs": [],
   "source": [
    "import numpy as np\n",
    "import random\n",
    "\n",
    "import os\n",
    "import pickle\n",
    "import sys\n",
    "import timeit\n",
    "\n",
    "import pandas as pd\n",
    "import seaborn as sns\n",
    "\n",
    "from sklearn.metrics import roc_curve, auc, roc_auc_score\n",
    "from sklearn.linear_model import LinearRegression, LogisticRegression\n",
    "from sklearn.datasets import make_spd_matrix\n",
    "from sklearn.ensemble import RandomForestRegressor\n",
    "from scipy.stats.stats import pearsonr \n",
    "\n",
    "import matplotlib.pyplot as plt\n",
    "from matplotlib.ticker import NullFormatter\n",
    "from matplotlib.ticker import FormatStrFormatter\n",
    "\n",
    "from matplotlib.pyplot import imshow\n",
    "%matplotlib inline \n",
    "\n",
    "from IPython.display import Image \n",
    "\n",
    "from util import fit_IPTW_LR, fit_IPTW_RF, fit_IPTW_SVM\n",
    "from util import sim_Data, sim_Unobs_Data, evaluation, placebo_confounder, bayes_unobs_confounder, refutation_analysis\n",
    "import pickle"
   ]
  },
  {
   "cell_type": "markdown",
   "metadata": {},
   "source": [
    "<img src=\"split_treatment.png\" width=\"400\"/>"
   ]
  },
  {
   "cell_type": "markdown",
   "metadata": {},
   "source": [
    "## Generate data with no-unobs. confounding"
   ]
  },
  {
   "cell_type": "code",
   "execution_count": null,
   "metadata": {},
   "outputs": [],
   "source": [
    "xDim = 50\n",
    "nSim = 10000\n",
    "\n",
    "p_AgivenZ = 1\n",
    "p_AgivenNotZ = 0.1\n",
    "        \n",
    "X_data, Y_data, A_data, nObs, Group_data, Y_0_data, Y_1_data, Z, A = sim_Data(xDim, nSim, p_AgivenZ, p_AgivenNotZ)\n",
    "\n",
    "print('Fit IPTW + LR')\n",
    "Yhat_0, Yhat_1 = fit_IPTW_LR(X_data, Y_data, A_data, nObs)\n",
    "a_matched_z, rmse, recovered_rank = evaluation(Yhat_0, Yhat_1, Group_data, Y_0_data, Y_1_data, A, Z)\n",
    "\n",
    "print('Fit IPTW + SVM')\n",
    "Yhat_0, Yhat_1 = fit_IPTW_SVM(X_data, Y_data, A_data, nObs)\n",
    "a_matched_z, rmse, recovered_rank = evaluation(Yhat_0, Yhat_1, Group_data, Y_0_data, Y_1_data, A, Z)"
   ]
  },
  {
   "cell_type": "markdown",
   "metadata": {},
   "source": [
    "## Violation of Assumption 1: Generate data with unobs. confounding"
   ]
  },
  {
   "cell_type": "code",
   "execution_count": null,
   "metadata": {},
   "outputs": [],
   "source": [
    "xDim = 50\n",
    "nSim = 10000\n",
    "p_AgivenZ = 1\n",
    "p_AgivenNotZ = 0.1\n",
    "\n",
    "X_data, Y_data, A_data, nObs, Group_data, Y_0_data, Y_1_data, Z, A = sim_Unobs_Data(xDim, nSim, p_AgivenZ, p_AgivenNotZ)\n",
    "Yhat_0, Yhat_1 = fit_IPTW_LR(X_data, Y_data,A_data, nObs)\n",
    "a_matched_z, rmse, recovered_rank = evaluation(Yhat_0, Yhat_1, Group_data, Y_0_data, Y_1_data, A, Z)"
   ]
  },
  {
   "cell_type": "markdown",
   "metadata": {},
   "source": [
    "## Violation of Assumption 2: Generate data violating the split-treatment criterion "
   ]
  },
  {
   "cell_type": "code",
   "execution_count": null,
   "metadata": {},
   "outputs": [],
   "source": [
    "xDim = 50\n",
    "nSim = 10000\n",
    "p_AgivenZ = 0.6\n",
    "p_AgivenNotZ = 0.7\n",
    "\n",
    "X_data, Y_data, A_data, nObs, Group_data, Y_0_data, Y_1_data, Z, A = sim_Data(xDim, nSim, p_AgivenZ, p_AgivenNotZ)\n",
    "Yhat_0, Yhat_1 = fit_IPTW_LR(X_data, Y_data, A_data, nObs)\n",
    "a_matched_z, rmse, recovered_rank = evaluation(Yhat_0, Yhat_1, Group_data, Y_0_data, Y_1_data, A, Z)"
   ]
  },
  {
   "cell_type": "markdown",
   "metadata": {},
   "source": [
    "# Refutation Analysis"
   ]
  },
  {
   "cell_type": "markdown",
   "metadata": {},
   "source": [
    "## Placebo Confounder"
   ]
  },
  {
   "cell_type": "code",
   "execution_count": null,
   "metadata": {},
   "outputs": [],
   "source": [
    "methods=['IPTW_LR', 'IPTW_SVM']\n",
    "\n",
    "for method in methods:\n",
    "    xDim = 50\n",
    "    nSim = 10000\n",
    "\n",
    "    #Data Generation\n",
    "    # A percentage Z match 77% params\n",
    "    p_AgivenZ= 0.8\n",
    "    p_AgivenNotZ=0.2\n",
    "\n",
    "    X_data, Y_data, A_data, nObs, Group_data, Y_0_data, Y_1_data, Z, A = sim_Data(xDim, nSim, p_AgivenZ, p_AgivenNotZ)\n",
    "    print(np.sum(Y_0_data), np.sum(Y_1_data))\n",
    "\n",
    "    # No Confounder\n",
    "    if method == 'IPTW_LR':\n",
    "        Yhat_0, Yhat_1 = fit_IPTW_LR(X_data, Y_data, A_data, nObs)\n",
    "    elif method == 'IPTW_SVM':\n",
    "        Yhat_0, Yhat_1 = fit_IPTW_SVM(X_data, Y_data, A_data, nObs)\n",
    "\n",
    "    a_matched_z, rmse, recovered_rank = evaluation(Yhat_0, Yhat_1, Group_data, Y_0_data, Y_1_data, A, Z)\n",
    "    print('% of A matched Z', a_matched_z)\n",
    "    print('Mean recovered rank without Placebo Treatment: ', rmse, np.mean(recovered_rank))\n",
    "\n",
    "\n",
    "    #Placebo Confounder\n",
    "    A_matched_Z_unobs = []\n",
    "    RMSEs_unobs = []\n",
    "\n",
    "    A_data_placebo= placebo_confounder(X_data, A_data, Y_data)\n",
    "\n",
    "    #Results on Confounded Data\n",
    "    if method == 'IPTW_LR':\n",
    "        Yhat_0, Yhat_1 = fit_IPTW_LR(X_data, Y_data,  A_data_placebo, nObs)\n",
    "    elif method == 'IPTW_SVM':\n",
    "        Yhat_0, Yhat_1 = fit_IPTW_SVM(X_data, Y_data,  A_data_placebo, nObs)\n",
    "\n",
    "    a_matched_z, rmse, recovered_rank = evaluation(Yhat_0, Yhat_1, Group_data, Y_0_data, Y_1_data, A_data_placebo, Z)\n",
    "    print('% of A matched Z', a_matched_z)\n",
    "    print('Mean recovered rank with Placebo Treatment: ', rmse, np.mean(recovered_rank))"
   ]
  },
  {
   "cell_type": "markdown",
   "metadata": {},
   "source": [
    "## Unobserved Confounder Test"
   ]
  },
  {
   "cell_type": "code",
   "execution_count": null,
   "metadata": {},
   "outputs": [],
   "source": [
    "methods=['IPTW_LR', 'IPTW_SVM']\n",
    "res=[]\n",
    "res_refute=[]\n",
    "for method in methods:\n",
    "\n",
    "    alpha_range, sort_indice, a_matched_z, A_matched_Z_unobs, RMSEs_refute, RMSEs_unobs, RMSEs, corr_t, corr_y= refutation_analysis(method)\n",
    "\n",
    "    A_matched_Z_unobs = np.array(A_matched_Z_unobs)\n",
    "    RMSEs_unobs = np.array(RMSEs_unobs)\n",
    "\n",
    "    sort_indice = np.argsort(A_matched_Z_unobs)\n",
    "    sort_indice = sort_indice[::-1]\n",
    "    \n",
    "    res.append(RMSEs_unobs)\n",
    "    res_refute.append(RMSEs_refute)"
   ]
  },
  {
   "cell_type": "markdown",
   "metadata": {},
   "source": [
    "## RMSE Bar Plot"
   ]
  },
  {
   "cell_type": "code",
   "execution_count": null,
   "metadata": {},
   "outputs": [],
   "source": [
    "plot_df= pd.DataFrame(columns=methods)\n",
    "for idx in range(len(methods)):\n",
    "    plot_df[methods[idx]]= res_refute[idx]\n",
    "\n",
    "sns.set(font_scale=2.45)\n",
    "sns.set_style(\"whitegrid\")\n",
    "#sns.set(rc={\"font.size\":20,\"axes.titlesize\":20,\"axes.labelsize\":20},style=\"white\")\n",
    "\n",
    "fig, ax1 = plt.subplots(figsize = [15,7])\n",
    "\n",
    "fig = sns.boxplot(data = plot_df, palette='PRGn')\n",
    "fig.set_xlabel('Models')\n",
    "fig.set_ylabel('RMSE')\n",
    "plt.savefig('images/sensitivity_analysis_synthetic.png', dpi=200)"
   ]
  },
  {
   "cell_type": "code",
   "execution_count": null,
   "metadata": {},
   "outputs": [],
   "source": []
  }
 ],
 "metadata": {
  "kernelspec": {
   "display_name": "Python 3",
   "language": "python",
   "name": "python3"
  },
  "language_info": {
   "codemirror_mode": {
    "name": "ipython",
    "version": 3
   },
   "file_extension": ".py",
   "mimetype": "text/x-python",
   "name": "python",
   "nbconvert_exporter": "python",
   "pygments_lexer": "ipython3",
   "version": "3.6.9"
  }
 },
 "nbformat": 4,
 "nbformat_minor": 2
}
