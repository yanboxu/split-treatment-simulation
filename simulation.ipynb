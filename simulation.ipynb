{
 "cells": [
  {
   "cell_type": "code",
   "execution_count": 1,
   "metadata": {},
   "outputs": [],
   "source": [
    "import numpy as np\n",
    "import random\n",
    "\n",
    "import os\n",
    "import pickle\n",
    "import sys\n",
    "import timeit\n",
    "\n",
    "from sklearn.metrics import roc_curve, auc, roc_auc_score\n",
    "from sklearn.linear_model import LinearRegression, LogisticRegression\n",
    "from sklearn.datasets import make_spd_matrix\n",
    "from sklearn.ensemble import RandomForestRegressor\n",
    "from scipy.stats.stats import pearsonr \n",
    "\n",
    "import matplotlib.pyplot as plt\n",
    "from matplotlib.ticker import NullFormatter\n",
    "from matplotlib.ticker import FormatStrFormatter\n",
    "\n",
    "from matplotlib.pyplot import imshow\n",
    "%matplotlib inline \n",
    "\n",
    "from IPython.display import Image \n",
    "\n",
    "import pickle"
   ]
  },
  {
   "cell_type": "markdown",
   "metadata": {},
   "source": [
    "<img src=\"split_treatment.png\" width=\"400\"/>"
   ]
  },
  {
   "cell_type": "markdown",
   "metadata": {},
   "source": [
    "## Generate data with no-unobs. confounding"
   ]
  },
  {
   "cell_type": "code",
   "execution_count": null,
   "metadata": {},
   "outputs": [],
   "source": [
    "xDim = 50\n",
    "nSim = 10000\n",
    "\n",
    "A_matched_Z = []\n",
    "RMSEs = []\n",
    "for p_AgivenZ in [0.6, 0.7, 0.8, 0.9, 1]:\n",
    "    for p_AgivenNotZ in [0.5, 0.4, 0.3, 0.2, 0.1]:\n",
    "\n",
    "        X_data, Y_data, A_data, nObs, Group_data, Y_0_data, Y_1_data, Z, A = sim_Data(xDim, nSim, p_AgivenZ, p_AgivenNotZ)\n",
    "        Yhat_0, Yhat_1 = fit_IPTW_LR(X_data, A_data, nObs)\n",
    "        a_matched_z, rmse = evaluation(Yhat_0, Yhat_1, Group_data, Y_0_data, Y_1_data, A, Z)\n",
    "        \n",
    "        A_matched_Z.append(a_matched_z)\n",
    "        RMSEs.append(rmse)"
   ]
  },
  {
   "cell_type": "code",
   "execution_count": null,
   "metadata": {},
   "outputs": [],
   "source": [
    "A_matched_Z = np.array(A_matched_Z)\n",
    "RMSEs = np.array(RMSEs)\n",
    "sort_indice = np.argsort(A_matched_Z)\n",
    "plt.plot(A_matched_Z[sort_indice], RMSEs[sort_indice])\n",
    "plt.xlabel('% of A matched Z')\n",
    "plt.ylabel('RMSE')"
   ]
  },
  {
   "cell_type": "markdown",
   "metadata": {},
   "source": [
    "## Generate data violating the split-treatment criterion "
   ]
  },
  {
   "cell_type": "code",
   "execution_count": null,
   "metadata": {},
   "outputs": [],
   "source": [
    "xDim = 50\n",
    "nSim = 10000\n",
    "p_AgivenZ = 0.6\n",
    "p_AgivenNotZ = 0.7\n",
    "\n",
    "X_data, Y_data, A_data, nObs, Group_data, Y_0_data, Y_1_data, Z, A = sim_Unobs_Data(xDim, nSim, p_AgivenZ, p_AgivenNotZ)\n",
    "Yhat_0, Yhat_1 = fit_IPTW_LR(X_data, A_data, nObs)\n",
    "a_matched_z, rmse = evaluation(Yhat_0, Yhat_1, Group_data, Y_0_data, Y_1_data, A, Z)"
   ]
  },
  {
   "cell_type": "markdown",
   "metadata": {},
   "source": [
    "## Generate data with unobs. confounding"
   ]
  },
  {
   "cell_type": "code",
   "execution_count": null,
   "metadata": {},
   "outputs": [],
   "source": [
    "xDim = 50\n",
    "nSim = 10000\n",
    "p_AgivenZ = 0.9\n",
    "p_AgivenNotZ = 0.1\n",
    "\n",
    "X_data, Y_data, A_data, nObs, Group_data, Y_0_data, Y_1_data, Z, A = sim_Data(xDim, nSim, p_AgivenZ, p_AgivenNotZ)\n",
    "Yhat_0, Yhat_1 = fit_IPTW_LR(X_data, A_data, nObs)\n",
    "a_matched_z, rmse = evaluation(Yhat_0, Yhat_1, Group_data, Y_0_data, Y_1_data, A, Z)\n"
   ]
  },
  {
   "cell_type": "code",
   "execution_count": null,
   "metadata": {},
   "outputs": [],
   "source": [
    "xDim = 50\n",
    "nSim = 10000\n",
    "p_AgivenZ = 0.9\n",
    "p_AgivenNotZ = 0.1\n",
    "\n",
    "X_data, Y_data, A_data, nObs, Group_data, Y_0_data, Y_1_data, Z, A = sim_Unobs_Data(xDim, nSim, p_AgivenZ, p_AgivenNotZ)\n",
    "Yhat_0, Yhat_1 = fit_IPTW_LR(X_data, A_data, nObs)\n",
    "a_matched_z, rmse = evaluation(Yhat_0, Yhat_1, Group_data, Y_0_data, Y_1_data, A, Z)"
   ]
  },
  {
   "cell_type": "code",
   "execution_count": 25,
   "metadata": {},
   "outputs": [],
   "source": [
    "def sim_Data(xDim, nSim, p_AgivenZ, p_AgivenNotZ):\n",
    "    #** Follow the graph to generate Y\n",
    "    # Y = X * beta + Z * CATE\n",
    "\n",
    "    # confounders\n",
    "    x_Sigma = make_spd_matrix(xDim)\n",
    "    X = np.random.multivariate_normal(np.zeros(xDim),x_Sigma,size=nSim)\n",
    "    beta = np.random.choice(5, xDim, replace=True, p =[.3, .25, .2, .15, .1])\n",
    "\n",
    "    # ground truth CATE\n",
    "    CATE = np.array([10,20,30,40])\n",
    "\n",
    "    p_G = np.exp(X[:,1])/(1+np.exp(X[:,1]))\n",
    "    Group = np.zeros(nSim)\n",
    "    Group[p_G < 0.75] = 1\n",
    "    Group[p_G < 0.5] = 2\n",
    "    Group[p_G < 0.25] = 3\n",
    "    Group = Group.astype(int)\n",
    "\n",
    "\n",
    "    # Z encourage A, and split-treatment criterion p_A_given_Z_X > p_A_given_notZ_X\n",
    "    p_A_given_Z = [p_AgivenZ if x[0] > 0 else p_AgivenZ-0.1 for x in X]\n",
    "    p_A_given_notZ = [p_AgivenNotZ for x in X]\n",
    "    Compliance = np.array(p_A_given_Z) - np.array(p_A_given_notZ)\n",
    "    print('Avg compliance:', np.mean(Compliance))\n",
    "\n",
    "    # ground truth two-arm potential outcomes\n",
    "    Y_0 = np.random.normal(np.sum(X * beta,1),1)\n",
    "    #Y_1 = Y_0 + np.random.normal(CATE[Group],1)\n",
    "    #Y_1 = Y_0 + CATE[Group]\n",
    "    Y_1 = Y_0 + CATE[Group]/(Compliance * 0.5)    \n",
    "\n",
    "#     # ground truth ITE plot\n",
    "#     ite_order = np.argsort(Y_1 - Y_0)\n",
    "#     plt.plot((Y_1 - Y_0)[ite_order])\n",
    "#     plt.title('Ground truth ITE')\n",
    "\n",
    "    # randomized treatment\n",
    "    Z = np.random.choice(2, nSim)\n",
    "\n",
    "    A = [np.random.choice(2, 1, p = [1-p_A_given_Z[i], p_A_given_Z[i]]) \n",
    "         if Z[i] == 1 else np.random.choice(2, 1, p = [1-p_A_given_notZ[i], p_A_given_notZ[i]])\n",
    "        for i in range(nSim)]\n",
    "\n",
    "    Y = [Y_0[i] if A[i] == 0 else Y_1[i] for i in range(nSim)]\n",
    "\n",
    "    Z = np.array(Z).ravel()\n",
    "    A = np.array(A).ravel()\n",
    "    Y = np.array(Y).ravel()\n",
    "    \n",
    "#     print('Z==1:',sum(Z), 'A==Z:',sum(A*Z))\n",
    "    \n",
    "    # return full observed data\n",
    "    return X, Y, A, nSim, Group, Y_0, Y_1, Z, A"
   ]
  },
  {
   "cell_type": "code",
   "execution_count": 3,
   "metadata": {},
   "outputs": [],
   "source": [
    "def sim_Unobs_Data(xDim, nSim, p_AgivenZ, p_AgivenNotZ):\n",
    "    #** Follow the graph to generate Y\n",
    "    # Y = X * beta + U * gamma + Z * CATE\n",
    "\n",
    "    #** Add a U to X, A and Y\n",
    "    # confounders\n",
    "    x_Sigma = make_spd_matrix(xDim)\n",
    "    X = np.random.multivariate_normal(np.zeros(xDim),x_Sigma,size=nSim)\n",
    "    beta = np.random.choice(5, xDim, replace=True, p =[.3, .25, .2, .15, .1])\n",
    "    \n",
    "    U = np.random.normal(0.5 * np.ones(nSim),1)\n",
    "    gamma = 2\n",
    "\n",
    "    # ground truth CATE\n",
    "    CATE = np.array([1,2,3,4])\n",
    "    p_G = np.exp(X[:,1])/(1+np.exp(X[:,1]))\n",
    "    Group = np.zeros(nSim)\n",
    "    Group[p_G < 0.75] = 1\n",
    "    Group[p_G < 0.5] = 2\n",
    "    Group[p_G < 0.25] = 3\n",
    "    Group = Group.astype(int)\n",
    "\n",
    "    # ground truth two-arm potential outcomes\n",
    "    Y_0 = np.random.normal(np.sum(X * beta,1) + U * gamma,1)\n",
    "    #Y_1 = Y_0 + np.random.normal(CATE[Group],1)\n",
    "    Y_1 = Y_0 + CATE[Group]\n",
    "\n",
    "    # Z encourage A, and split-treatment criterion p_A_given_Z_X > p_A_given_notZ_X\n",
    "    p_A_given_Z = [p_AgivenZ if x[0]*u > 0 else p_AgivenZ-0.1 for x,u in zip(X,U)]\n",
    "    p_A_given_notZ = [p_AgivenNotZ for x in X]\n",
    "\n",
    "#     # ground truth ITE plot\n",
    "#     ite_order = np.argsort(Y_1 - Y_0)\n",
    "#     plt.plot((Y_1 - Y_0)[ite_order])\n",
    "#     plt.title('Ground truth ITE')\n",
    "\n",
    "    # randomized treatment\n",
    "    Z = np.random.choice(2, nSim)\n",
    "\n",
    "    A = [np.random.choice(2, 1, p = [1-p_A_given_Z[i], p_A_given_Z[i]]) \n",
    "         if Z[i] == 1 else np.random.choice(2, 1, p = [1-p_A_given_notZ[i], p_A_given_notZ[i]])\n",
    "        for i in range(nSim)]\n",
    "\n",
    "    Y = [Y_0[i] if Z[i] == 0 else Y_1[i] for i in range(nSim)]\n",
    "\n",
    "    Z = np.array(Z).ravel()\n",
    "    A = np.array(A).ravel()\n",
    "    Y = np.array(Y).ravel()\n",
    "    \n",
    "#     print('Z==1:',sum(Z), 'A==Z:',sum(A*Z))\n",
    "    \n",
    "    # return full observed data\n",
    "    return X, Y, A, nSim, Group, Y_0, Y_1, Z, A"
   ]
  },
  {
   "cell_type": "code",
   "execution_count": 4,
   "metadata": {},
   "outputs": [],
   "source": [
    "def fit_IPTW_LR(X_data, A_data, nObs):\n",
    "    # 1. Fit propensity\n",
    "    clf = LogisticRegression().fit(X_data, A_data)\n",
    "    propensity = clf.predict_proba(X_data)[:,1]\n",
    "    p_A = np.sum(A_data)/len(A_data)\n",
    "    iptw = [p_A/propensity[i] if A_data[i] == 1 else (1-p_A)/(1-propensity[i]) for i in range(nObs)]\n",
    "\n",
    "    print('p_A: {}, IPTW: {:.2f} +/- {:.2f}'.format(p_A, np.mean(iptw), np.std(iptw)))\n",
    "    \n",
    "    # 2. Fit weighted LR\n",
    "    X_A_data = np.array([X_data[i] * A_data[i] for i in range(nObs)])\n",
    "    model = LinearRegression(fit_intercept=False).fit(np.concatenate((X_data,X_A_data, A_data.reshape(-1,1)),1),Y_data,sample_weight=iptw)\n",
    "    Yhat_0 = model.predict(np.concatenate((X_data, np.zeros(X_data.shape), np.zeros((nObs,1))),1))\n",
    "    Yhat_1 = model.predict(np.concatenate((X_data,X_data, np.ones((nObs,1))),1))\n",
    "\n",
    "    return Yhat_0, Yhat_1"
   ]
  },
  {
   "cell_type": "code",
   "execution_count": 5,
   "metadata": {},
   "outputs": [],
   "source": [
    "def evaluation(Yhat_0, Yhat_1, Group_data, Y_0_data, Y_1_data, A, Z):\n",
    "    print('Unbiased estimated CATE: {:.2f}, {:.2f}, {:.2f}, {:.2f}'.format(\n",
    "        np.mean((Yhat_1 - Yhat_0)[Group_data == 0]),\n",
    "               np.mean((Yhat_1 - Yhat_0)[Group_data == 1]),\n",
    "                      np.mean((Yhat_1 - Yhat_0)[Group_data == 2]),\n",
    "                             np.mean((Yhat_1 - Yhat_0)[Group_data == 3])))\n",
    "\n",
    "    est_ite_order = np.argsort(Yhat_1 - Yhat_0)\n",
    "    recovered_ITE = (Y_1_data - Y_0_data)[est_ite_order]\n",
    "\n",
    "    ite_order_data = np.argsort(Y_1_data - Y_0_data)\n",
    "    ground_truth_ITE = (Y_1_data - Y_0_data)[ite_order_data]\n",
    "\n",
    "    rmse = np.sqrt(np.mean((recovered_ITE - ground_truth_ITE)**2))\n",
    "    \n",
    "    A_Z_matched = sum(A == Z)/len(Z)\n",
    "    print('Unbiased recovered CATE: {:.2f}, {:.2f}, {:.2f}, {:.2f}.'.format(\n",
    "        np.mean(recovered_ITE[:sum(Group_data == 0)]), np.mean(recovered_ITE[sum(Group_data == 0):sum( Group_data <= 1)]),\n",
    "        np.mean(recovered_ITE[sum( Group_data <= 1):sum( Group_data <= 2)]), np.mean(recovered_ITE[sum( Group_data <= 2):])))\n",
    "    print('{:.1f}% A matched Z, RMSE: {:.2f}'.format(A_Z_matched * 100., rmse))\n",
    "    #print('Ground truth CATE:', CATE)\n",
    "    \n",
    "    fig = plt.figure(figsize=(10,6))\n",
    "\n",
    "    ax1 = fig.add_subplot(2,2,1)\n",
    "    ax1.plot((Y_1_data - Y_0_data)[ite_order_data])\n",
    "    ax1.set_title('Ground truth ITE')\n",
    "\n",
    "    ax2 = fig.add_subplot(2,2,2)\n",
    "    ax2.plot(recovered_ITE)\n",
    "    ax2.set_title('Recovered ITE (RMSE = {:.2f})'.format(rmse))\n",
    "\n",
    "    fig.suptitle('{:.1f}% A matched Z'.format(A_Z_matched * 100.))\n",
    "    \n",
    "    return A_Z_matched, rmse"
   ]
  },
  {
   "cell_type": "code",
   "execution_count": null,
   "metadata": {},
   "outputs": [],
   "source": []
  },
  {
   "cell_type": "code",
   "execution_count": null,
   "metadata": {},
   "outputs": [],
   "source": [
    "# # get biased observed data \n",
    "# obs_indices = [True if X[i,0] * X[i,2] > 0 else False for i in range(nSim)]\n",
    "\n",
    "# X_data = X[obs_indices]\n",
    "# A_data = A[obs_indices]\n",
    "# Y_data = Y[obs_indices]\n",
    "\n",
    "# # ground truth params\n",
    "# Group_data = Group[obs_indices]\n",
    "# Y_0_data = Y_0[obs_indices]\n",
    "# Y_1_data = Y_1[obs_indices]\n",
    "\n",
    "# nObs = sum(obs_indices)\n",
    "# print('Num obs:', nObs)"
   ]
  },
  {
   "cell_type": "code",
   "execution_count": null,
   "metadata": {},
   "outputs": [],
   "source": [
    "# Fit LR\n",
    "model = LinearRegression(fit_intercept=False).fit(np.concatenate((X_data,X_A_data,A_data.reshape(-1,1)),1),Y_data)\n",
    "Yhat_0 = model.predict(np.concatenate((X_data,np.zeros(X_data.shape),np.zeros((nObs,1))),1))\n",
    "Yhat_1 = model.predict(np.concatenate((X_data,X_data,np.ones((nObs,1))),1))\n",
    "\n",
    "print('Biased est. CATE: {:.2f}, {:.2f}, {:.2f}, {:.2f}'.format(\n",
    "    np.mean((Yhat_1 - Yhat_0)[Group_data == 0]),\n",
    "           np.mean((Yhat_1 - Yhat_0)[Group_data == 1]),\n",
    "                  np.mean((Yhat_1 - Yhat_0)[Group_data == 2]),\n",
    "                         np.mean((Yhat_1 - Yhat_0)[Group_data == 3])))\n",
    "\n",
    "indices_sort = np.argsort(Yhat_1 - Yhat_0)\n",
    "recover_CATE = (Y_1_data - Y_0_data)[indices_sort]\n",
    "print('Biased rec. CATE: {:.2f}, {:.2f}, {:.2f}, {:.2f}'.format(\n",
    "    np.mean(recover_CATE[:sum(Group_data == 0)]), np.mean(recover_CATE[sum(Group_data == 0):sum( Group_data <= 1)]),\n",
    "    np.mean(recover_CATE[sum( Group_data <= 1):sum( Group_data <= 2)]), np.mean(recover_CATE[sum( Group_data <= 2):])))\n",
    "print('Ground truth CATE:', CATE)"
   ]
  },
  {
   "cell_type": "markdown",
   "metadata": {},
   "source": [
    "# Refutation Analysis"
   ]
  },
  {
   "cell_type": "markdown",
   "metadata": {},
   "source": [
    "### Generating Unobserved Confounders"
   ]
  },
  {
   "cell_type": "code",
   "execution_count": null,
   "metadata": {},
   "outputs": [],
   "source": [
    "# Treatment: A_data; Features: X_data; Labels: Y_data [ Each of shape 10k*1 or 10k*50 ]\n",
    "# A and A_data are the same\n",
    "\n",
    "xDim = 50\n",
    "nSim = 10000\n",
    "\n",
    "A_matched_Z = []\n",
    "RMSEs = []\n",
    "A_matched_Z_unobs = []\n",
    "RMSEs_unobs = []\n",
    "\n",
    "corr_t=[]\n",
    "corr_y=[]\n",
    "counter=0\n",
    "for p_AgivenZ in [0.6, 0.7, 0.8, 0.9, 1]:\n",
    "    for p_AgivenNotZ in [0.5, 0.4, 0.3, 0.2, 0.1]:\n",
    "\n",
    "        X_data, Y_data, A_data, nObs, Group_data, Y_0_data, Y_1_data, Z, A = sim_Data(xDim, nSim, p_AgivenZ, p_AgivenNotZ)\n",
    "        print(np.sum(Y_0_data), np.sum(Y_1_data))\n",
    "        \n",
    "        #Generate Obs Refutation Data\n",
    "        alpha= 1000\n",
    "        eps= 10*alpha\n",
    "        corr_treat, corr_out, X_data_unobs= bayes_unobs_confounder(X_data, A_data, Y_data, alpha, eps)\n",
    "        corr_t.append(corr_treat)\n",
    "        corr_y.append(corr_out)\n",
    "        \n",
    "        #Results on Normal Data\n",
    "        Yhat_0, Yhat_1 = fit_IPTW_LR(X_data, A_data, nObs)\n",
    "        a_matched_z, rmse = evaluation(Yhat_0, Yhat_1, Group_data, Y_0_data, Y_1_data, A, Z)\n",
    "        \n",
    "        A_matched_Z.append(a_matched_z)\n",
    "        RMSEs.append(rmse)\n",
    "        \n",
    "        #Results on Confounded Data\n",
    "        Yhat_0, Yhat_1 = fit_IPTW_LR(X_data_unobs, A_data, nObs)\n",
    "        a_matched_z, rmse = evaluation(Yhat_0, Yhat_1, Group_data, Y_0_data, Y_1_data, A, Z)\n",
    "        \n",
    "        A_matched_Z_unobs.append(a_matched_z)\n",
    "        RMSEs_unobs.append(rmse)\n",
    "        \n",
    "        \n",
    "#         if counter ==0:\n",
    "#             counter+=1\n",
    "#             print(X_data.shape, Y_data.shape, A_data.shape, Group_data.shape, Y_0_data.shape, Y_1_data.shape)\n",
    "#             print(Y_data[0], Y_0_data[0], Y_1_data[0], A[0])\n",
    "#             print(Y_data[10], Y_0_data[10], Y_1_data[10], A[10])\n",
    "#             print(A_data)\n",
    "#             print(A, Z, nObs, len(A), len(Z))\n",
    "            \n",
    "#             if np.array_equal(A, A_data):\n",
    "#                 print('Yes')\n",
    "                \n",
    "#             if np.array_equal(X_data, Group_data):\n",
    "#                 print('Yes')\n",
    "#             else:\n",
    "#                 print('No')\n",
    "\n",
    "corr_t=np.array(corr_t)\n",
    "corr_y=np.array(corr_y)\n",
    "\n",
    "print('Final')\n",
    "print('Correlation Treatment: ', np.mean(corr_t), np.std(corr_t))\n",
    "print('Correlation Outcome: ', np.mean(corr_y), np.std(corr_y))"
   ]
  },
  {
   "cell_type": "markdown",
   "metadata": {},
   "source": [
    "### Results with True Data"
   ]
  },
  {
   "cell_type": "code",
   "execution_count": null,
   "metadata": {},
   "outputs": [],
   "source": [
    "A_matched_Z = np.array(A_matched_Z)\n",
    "RMSEs = np.array(RMSEs)\n",
    "sort_indice = np.argsort(A_matched_Z)\n",
    "plt.plot(A_matched_Z[sort_indice], RMSEs[sort_indice])\n",
    "plt.xlabel('% of A matched Z')\n",
    "plt.ylabel('RMSE')"
   ]
  },
  {
   "cell_type": "markdown",
   "metadata": {},
   "source": [
    "### Results with Unobs Confounding"
   ]
  },
  {
   "cell_type": "code",
   "execution_count": null,
   "metadata": {},
   "outputs": [],
   "source": [
    "A_matched_Z_unobs = np.array(A_matched_Z_unobs)\n",
    "RMSEs_unobs = np.array(RMSEs_unobs)\n",
    "sort_indice = np.argsort(A_matched_Z_unobs)\n",
    "plt.plot(A_matched_Z_unobs[sort_indice], RMSEs_unobs[sort_indice])\n",
    "plt.xlabel('% of A matched Z')\n",
    "plt.ylabel('RMSE')"
   ]
  },
  {
   "cell_type": "markdown",
   "metadata": {},
   "source": [
    "### Sweep over Unobs Confounders"
   ]
  },
  {
   "cell_type": "code",
   "execution_count": null,
   "metadata": {},
   "outputs": [],
   "source": [
    "res=[]\n",
    "for p_AgivenZ in [0.6, 0.7, 0.8, 0.9, 1]:\n",
    "    for p_AgivenNotZ in [0.5, 0.4, 0.3, 0.2, 0.1]:\n",
    "\n",
    "        X_data, Y_data, A_data, nObs, Group_data, Y_0_data, Y_1_data, Z, A = sim_Data(xDim, nSim, p_AgivenZ, p_AgivenNotZ)\n",
    "        print(np.sum(Y_0_data), np.sum(Y_1_data))\n",
    "\n",
    "        #Results on Normal Data\n",
    "        Yhat_0, Yhat_1 = fit_IPTW_LR(X_data, A_data, nObs)\n",
    "        a_matched_z, rmse = evaluation(Yhat_0, Yhat_1, Group_data, Y_0_data, Y_1_data, A, Z)\n",
    "        \n",
    "        temp=[]\n",
    "        temp.append(p_AgivenZ)\n",
    "        temp.append(p_AgivenNotZ)\n",
    "        temp.append(a_matched_z)\n",
    "        res.append(temp)\n",
    "            \n",
    "for item in res:\n",
    "    print('Item: ', item)"
   ]
  },
  {
   "cell_type": "code",
   "execution_count": 68,
   "metadata": {},
   "outputs": [
    {
     "name": "stdout",
     "output_type": "stream",
     "text": [
      "Avg compliance: 0.5494699999999999\n",
      "-1728.9811664355134 912664.3521668977\n",
      "p_A: 0.4735, IPTW: 1.00 +/- 0.08\n",
      "Unbiased estimated CATE: 44.99, 75.95, 106.22, 139.26\n",
      "Unbiased recovered CATE: 41.71, 74.38, 108.29, 142.73.\n",
      "77.2% A matched Z, RMSE: 13.09\n",
      "% of A matched Z 0.7724\n",
      "Alpha:  1000  Sample_size :  5265  Sum_  -0.13210145435295484 -695.5141571683072 0.057821086751176004\n",
      "Alpha:  1000  Sample_size :  4735  Sum_  90.97357261331913 430759.8663240661 91.1657234636964\n"
     ]
    },
    {
     "name": "stderr",
     "output_type": "stream",
     "text": [
      "/mnt/c/Users/t-dimaha/Desktop/DiCE/env/lib/python3.6/site-packages/sklearn/linear_model/_logistic.py:940: ConvergenceWarning: lbfgs failed to converge (status=1):\n",
      "STOP: TOTAL NO. of ITERATIONS REACHED LIMIT.\n",
      "\n",
      "Increase the number of iterations (max_iter) or scale the data as shown in:\n",
      "    https://scikit-learn.org/stable/modules/preprocessing.html\n",
      "Please also refer to the documentation for alternative solver options:\n",
      "    https://scikit-learn.org/stable/modules/linear_model.html#logistic-regression\n",
      "  extra_warning_msg=_LOGISTIC_SOLVER_CONVERGENCE_MSG)\n"
     ]
    },
    {
     "name": "stdout",
     "output_type": "stream",
     "text": [
      "p_A: 0.4735, IPTW: 1.00 +/- 1.12\n",
      "Unbiased estimated CATE: 44.86, 76.01, 106.36, 139.52\n",
      "Unbiased recovered CATE: 41.99, 74.40, 108.21, 142.66.\n",
      "77.2% A matched Z, RMSE: 13.21\n",
      "Final\n",
      "Correlation Treatment:  0.5467755098479681\n",
      "Correlation Outcome:  0.4845346598096891\n",
      "Alpha:  10000  Sample_size :  5265  Sum_  -0.13210145435295484 -695.5141571683072 1.7668981851180579\n",
      "Alpha:  10000  Sample_size :  4735  Sum_  90.97357261331913 430759.8663240661 93.06606130153423\n"
     ]
    },
    {
     "name": "stderr",
     "output_type": "stream",
     "text": [
      "/mnt/c/Users/t-dimaha/Desktop/DiCE/env/lib/python3.6/site-packages/sklearn/linear_model/_logistic.py:940: ConvergenceWarning: lbfgs failed to converge (status=1):\n",
      "STOP: TOTAL NO. of ITERATIONS REACHED LIMIT.\n",
      "\n",
      "Increase the number of iterations (max_iter) or scale the data as shown in:\n",
      "    https://scikit-learn.org/stable/modules/preprocessing.html\n",
      "Please also refer to the documentation for alternative solver options:\n",
      "    https://scikit-learn.org/stable/modules/linear_model.html#logistic-regression\n",
      "  extra_warning_msg=_LOGISTIC_SOLVER_CONVERGENCE_MSG)\n"
     ]
    },
    {
     "name": "stdout",
     "output_type": "stream",
     "text": [
      "p_A: 0.4735, IPTW: 1.00 +/- 0.60\n",
      "Unbiased estimated CATE: 44.78, 75.88, 106.33, 139.60\n",
      "Unbiased recovered CATE: 41.72, 74.42, 108.28, 142.62.\n",
      "77.2% A matched Z, RMSE: 13.15\n",
      "Final\n",
      "Correlation Treatment:  0.41925171222204877\n",
      "Correlation Outcome:  0.3791503757092569\n",
      "Alpha:  100000  Sample_size :  5265  Sum_  -0.13210145435295484 -695.5141571683072 18.857669168786877\n",
      "Alpha:  100000  Sample_size :  4735  Sum_  90.97357261331913 430759.8663240661 112.06943967991262\n"
     ]
    },
    {
     "name": "stderr",
     "output_type": "stream",
     "text": [
      "/mnt/c/Users/t-dimaha/Desktop/DiCE/env/lib/python3.6/site-packages/sklearn/linear_model/_logistic.py:940: ConvergenceWarning: lbfgs failed to converge (status=1):\n",
      "STOP: TOTAL NO. of ITERATIONS REACHED LIMIT.\n",
      "\n",
      "Increase the number of iterations (max_iter) or scale the data as shown in:\n",
      "    https://scikit-learn.org/stable/modules/preprocessing.html\n",
      "Please also refer to the documentation for alternative solver options:\n",
      "    https://scikit-learn.org/stable/modules/linear_model.html#logistic-regression\n",
      "  extra_warning_msg=_LOGISTIC_SOLVER_CONVERGENCE_MSG)\n"
     ]
    },
    {
     "name": "stdout",
     "output_type": "stream",
     "text": [
      "p_A: 0.4735, IPTW: 1.00 +/- 0.19\n",
      "Unbiased estimated CATE: 44.95, 75.94, 106.25, 139.34\n",
      "Unbiased recovered CATE: 41.71, 74.40, 108.27, 142.74.\n",
      "77.2% A matched Z, RMSE: 13.10\n",
      "Final\n",
      "Correlation Treatment:  0.16311382634272767\n",
      "Correlation Outcome:  0.13936075454582966\n"
     ]
    },
    {
     "data": {
      "image/png": "[encoded data removed]",
      "text/plain": [
       "<Figure size 720x432 with 2 Axes>"
      ]
     },
     "metadata": {
      "needs_background": "light"
     },
     "output_type": "display_data"
    },
    {
     "data": {
      "image/png": "[encoded data removed]",
      "text/plain": [
       "<Figure size 720x432 with 2 Axes>"
      ]
     },
     "metadata": {
      "needs_background": "light"
     },
     "output_type": "display_data"
    },
    {
     "data": {
      "image/png": "[encoded data removed]",
      "text/plain": [
       "<Figure size 720x432 with 2 Axes>"
      ]
     },
     "metadata": {
      "needs_background": "light"
     },
     "output_type": "display_data"
    },
    {
     "data": {
      "image/png": "[encoded data removed]",
      "text/plain": [
       "<Figure size 720x432 with 2 Axes>"
      ]
     },
     "metadata": {
      "needs_background": "light"
     },
     "output_type": "display_data"
    }
   ],
   "source": [
    "# Treatment: A_data; Features: X_data; Labels: Y_data [ Each of shape 10k*1 or 10k*50 ]\n",
    "# A and A_data are the same\n",
    "\n",
    "xDim = 50\n",
    "nSim = 10000\n",
    "\n",
    "#Data Generation\n",
    "A_matched_Z = []\n",
    "RMSEs = []\n",
    "\n",
    "# A percentage Z match 52% params\n",
    "# p_AgivenZ= 0.6\n",
    "# p_AgivenNotZ=0.5\n",
    "\n",
    "# A percentage Z match 77% params\n",
    "p_AgivenZ= 0.8\n",
    "p_AgivenNotZ=0.2\n",
    "\n",
    "X_data, Y_data, A_data, nObs, Group_data, Y_0_data, Y_1_data, Z, A = sim_Data(xDim, nSim, p_AgivenZ, p_AgivenNotZ)\n",
    "print(np.sum(Y_0_data), np.sum(Y_1_data))\n",
    "\n",
    "#Results on Normal Data\n",
    "Yhat_0, Yhat_1 = fit_IPTW_LR(X_data, A_data, nObs)\n",
    "a_matched_z, rmse = evaluation(Yhat_0, Yhat_1, Group_data, Y_0_data, Y_1_data, A, Z)\n",
    "print('% of A matched Z', a_matched_z)\n",
    "\n",
    "A_matched_Z.append(a_matched_z)\n",
    "RMSEs.append(rmse)\n",
    "\n",
    "#UnObs Confounder\n",
    "A_matched_Z_unobs = []\n",
    "RMSEs_unobs = []\n",
    "\n",
    "corr_t=[]\n",
    "corr_y=[]\n",
    "alpha_range= [10**3, 10**4, 10**5]\n",
    "\n",
    "for alpha in alpha_range:\n",
    "\n",
    "    #Generate Obs Refutation Data\n",
    "    eps= 5000*alpha\n",
    "    if alpha ==10**3:\n",
    "        eps=5*eps\n",
    "    \n",
    "    corr_treat, corr_out, X_data_unobs= bayes_unobs_confounder(X_data, A_data, Y_data, alpha, eps)\n",
    "    corr_t.append(corr_treat)\n",
    "    corr_y.append(corr_out)\n",
    "\n",
    "    #Results on Confounded Data\n",
    "    Yhat_0, Yhat_1 = fit_IPTW_LR(X_data_unobs, A_data, nObs)\n",
    "    a_matched_z, rmse = evaluation(Yhat_0, Yhat_1, Group_data, Y_0_data, Y_1_data, A, Z)\n",
    "\n",
    "    A_matched_Z_unobs.append(a_matched_z)\n",
    "    RMSEs_unobs.append(rmse)\n",
    "\n",
    "    print('Final')\n",
    "    print('Correlation Treatment: ', corr_treat)\n",
    "    print('Correlation Outcome: ', corr_out)\n",
    "    \n",
    "alpha_range=np.array(alpha_range)\n",
    "alpha_range=10000*(1/alpha_range)"
   ]
  },
  {
   "cell_type": "code",
   "execution_count": 70,
   "metadata": {},
   "outputs": [
    {
     "name": "stdout",
     "output_type": "stream",
     "text": [
      "[2 1 0] [13.21077002 13.14838393 13.10097537]\n"
     ]
    },
    {
     "data": {
      "image/png": "[encoded data removed]",
      "text/plain": [
       "<Figure size 432x288 with 1 Axes>"
      ]
     },
     "metadata": {
      "needs_background": "light"
     },
     "output_type": "display_data"
    }
   ],
   "source": [
    "A_matched_Z_unobs = np.array(A_matched_Z_unobs)\n",
    "RMSEs_unobs = np.array(RMSEs_unobs)\n",
    "\n",
    "sort_indice = np.argsort(A_matched_Z_unobs)\n",
    "sort_indice = sort_indice[::-1]\n",
    "print(sort_indice, RMSEs_unobs)\n",
    "\n",
    "plt.plot(alpha_range[sort_indice], RMSEs_unobs[sort_indice], '-ok', label='Confounder')\n",
    "plt.plot(alpha_range[sort_indice], len(alpha_range)*RMSEs, label='No Confounder')\n",
    "plt.xlabel('Confounder Strength (10^4/alpha)')\n",
    "plt.ylabel('RMSE')\n",
    "plt.title('Refutation analysis with % of A matched Z ' + str(np.round(a_matched_z,2)))\n",
    "plt.legend()\n",
    "plt.savefig('images/a_52.jpg')"
   ]
  },
  {
   "cell_type": "code",
   "execution_count": 51,
   "metadata": {},
   "outputs": [
    {
     "data": {
      "text/plain": [
       "array([0, 1, 2])"
      ]
     },
     "execution_count": 51,
     "metadata": {},
     "output_type": "execute_result"
    }
   ],
   "source": [
    "sort_indice"
   ]
  },
  {
   "cell_type": "code",
   "execution_count": 75,
   "metadata": {},
   "outputs": [
    {
     "data": {
      "image/png": "[encoded data removed]",
      "text/plain": [
       "<Figure size 432x288 with 1 Axes>"
      ]
     },
     "metadata": {
      "needs_background": "light"
     },
     "output_type": "display_data"
    }
   ],
   "source": [
    "plt.plot(alpha_range, corr_t, '-ok')\n",
    "plt.xlabel('Confounder Strength (10^4/alpha)')\n",
    "plt.ylabel('Pearson Correlation')\n",
    "plt.title('Correlation of Confounder with Treatment A')\n",
    "plt.savefig('images/b_52.jpg')"
   ]
  },
  {
   "cell_type": "code",
   "execution_count": 76,
   "metadata": {},
   "outputs": [
    {
     "data": {
      "image/png": "[encoded data removed]",
      "text/plain": [
       "<Figure size 432x288 with 1 Axes>"
      ]
     },
     "metadata": {
      "needs_background": "light"
     },
     "output_type": "display_data"
    }
   ],
   "source": [
    "plt.plot(alpha_range, corr_y, '-ok')\n",
    "plt.xlabel('Confounder Strength (10^4/alpha)')\n",
    "plt.ylabel('Pearson Correlation')\n",
    "plt.title('Correlation of Confounder with Outcome Y')\n",
    "plt.savefig('images/c_52.jpg')"
   ]
  },
  {
   "cell_type": "code",
   "execution_count": 7,
   "metadata": {},
   "outputs": [],
   "source": [
    "def bayes_unobs_confounder(X_data, A_data, Y_data, alpha, eps):\n",
    "\n",
    "    treatment= A_data \n",
    "    outcome= Y_data\n",
    "    total_size= X_data.shape[0]\n",
    "    unobs_confounder_stats=np.zeros((2,2))\n",
    "    \n",
    "    #Compute the posterior distirbution of the unobs confounder \n",
    "    for tcase in [0,1]:\n",
    "        sample_outcome= outcome[treatment==tcase]\n",
    "        sample_size= sample_outcome.shape[0]\n",
    "\n",
    "        # Posterior Mean\n",
    "        unobs_confounder_stats[tcase,0]= ( alpha + tcase + sample_size*np.mean(sample_outcome))/(sample_size+1)\n",
    "        # Posterior Vairance\n",
    "        unobs_confounder_stats[tcase,1]= eps/(sample_size+1)\n",
    "        print('Alpha: ', alpha, ' Sample_size : ', sample_size, ' Sum_ ', np.mean(sample_outcome), np.sum(sample_outcome), unobs_confounder_stats[tcase,0])\n",
    "#     print('Posterior Distirbution: ', unobs_confounder_stats)\n",
    "\n",
    "    # Sample from the unobs confounder posterior\n",
    "    unobs_confounder= np.zeros((total_size))\n",
    "    mu= np.zeros((total_size))\n",
    "    sigma= np.zeros((total_size))\n",
    "    z= np.random.normal(0,1,total_size)\n",
    "    for tcase in [0,1]:\n",
    "        mu[treatment==tcase]= unobs_confounder_stats[tcase,0]\n",
    "        sigma[treatment==tcase]= np.sqrt( unobs_confounder_stats[tcase,1] ) \n",
    "\n",
    "    unobs_confounder= mu + sigma*z\n",
    "\n",
    "    # Compute the correlation of U with T,Y\n",
    "#     print( 'U Shape', unobs_confounder.shape )\n",
    "#     print( 'U Val', unobs_confounder[ treatment == 0 ][:20],  unobs_confounder[ treatment == 1 ][:20] )\n",
    "    corr_treat= pearsonr( unobs_confounder, treatment )\n",
    "    corr_out= pearsonr( unobs_confounder, outcome )\n",
    "#     print( 'Correlation Treatment: ', corr_treat )\n",
    "#     print( 'Correlation_Outcome:' , corr_out )\n",
    "\n",
    "    # Add the new column to the datatframe\n",
    "    unobs_confounder= np.reshape( unobs_confounder, (unobs_confounder.shape[0], 1) )\n",
    "    X_data_unobs_conf= np.concatenate((X_data, unobs_confounder), axis=1)\n",
    "    \n",
    "    return corr_treat[0], corr_out[0], X_data_unobs_conf"
   ]
  },
  {
   "cell_type": "markdown",
   "metadata": {},
   "source": [
    "## Results"
   ]
  },
  {
   "cell_type": "markdown",
   "metadata": {},
   "source": [
    "<img src='images/a_77.jpg'>\n",
    "<img src='images/a_52.jpg'>"
   ]
  },
  {
   "cell_type": "markdown",
   "metadata": {},
   "source": [
    "<img src='images/b_77.jpg'>\n",
    "<img src='images/c_77.jpg'>"
   ]
  },
  {
   "cell_type": "code",
   "execution_count": null,
   "metadata": {},
   "outputs": [],
   "source": []
  }
 ],
 "metadata": {
  "kernelspec": {
   "display_name": "Python 3",
   "language": "python",
   "name": "python3"
  },
  "language_info": {
   "codemirror_mode": {
    "name": "ipython",
    "version": 3
   },
   "file_extension": ".py",
   "mimetype": "text/x-python",
   "name": "python",
   "nbconvert_exporter": "python",
   "pygments_lexer": "ipython3",
   "version": "3.6.9"
  }
 },
 "nbformat": 4,
 "nbformat_minor": 2
}
